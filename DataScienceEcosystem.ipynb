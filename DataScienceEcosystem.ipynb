{
 "cells": [
  {
   "cell_type": "markdown",
   "id": "09bf685b",
   "metadata": {},
   "source": [
    "# Data Science Tools and Ecosystem"
   ]
  },
  {
   "cell_type": "markdown",
   "id": "11c9061e",
   "metadata": {},
   "source": [
    "In this notebook, Data Science Tools and Ecosystem are summarized."
   ]
  },
  {
   "cell_type": "markdown",
   "id": "44d84e21",
   "metadata": {},
   "source": [
    "**Objectives:**\n",
    "* Programming Languages\n",
    "  * Python\n",
    "  * Scala\n",
    "  * Julia\n",
    "* Development Environments\n",
    "  * JupyterLab\n",
    "  * Jupyter Notebook\n",
    "  * Spyder\n",
    "* Tools\n",
    "  * Apache\n",
    "  * Spark\n",
    "  * Github"
   ]
  },
  {
   "cell_type": "markdown",
   "id": "89c30343",
   "metadata": {},
   "source": [
    "Some of the popular languages that Data Scientists use are:\n",
    "1. Python\n",
    "2. R\n",
    "3. Scala\n",
    "4. Julia"
   ]
  },
  {
   "cell_type": "markdown",
   "id": "c0c3e1aa",
   "metadata": {},
   "source": [
    "Some of the commonly used libraries used by Data Scientists include:\n",
    "\n",
    "1. TensorFlow\n",
    "2. Keras\n",
    "3. PyTorch\n",
    "4. Sci-Kit Learn\n",
    "5. Scrapy"
   ]
  },
  {
   "cell_type": "markdown",
   "id": "795740d2",
   "metadata": {},
   "source": [
    "| Data Science Tools |\n",
    "|--------------------|\n",
    "|JupyterLab|\n",
    "|Jupyter Notebook|\n",
    "|Spyder|"
   ]
  },
  {
   "cell_type": "markdown",
   "id": "22362b8c",
   "metadata": {},
   "source": [
    "### Below are a few examples of evaluating arithmetic expressions in Python.\n",
    "\n",
    "7+8\n",
    "\n",
    "7*8\n",
    "\n",
    "7-8\n",
    "\n",
    "7/8"
   ]
  },
  {
   "cell_type": "code",
   "execution_count": 2,
   "id": "a58b74d0",
   "metadata": {},
   "outputs": [
    {
     "data": {
      "text/plain": [
       "17"
      ]
     },
     "execution_count": 2,
     "metadata": {},
     "output_type": "execute_result"
    }
   ],
   "source": [
    "#This a simple arithmetic expression to mutiply then add integers\n",
    "(3*4)+5"
   ]
  },
  {
   "cell_type": "code",
   "execution_count": 3,
   "id": "63656598",
   "metadata": {},
   "outputs": [
    {
     "data": {
      "text/plain": [
       "3.3333333333333335"
      ]
     },
     "execution_count": 3,
     "metadata": {},
     "output_type": "execute_result"
    }
   ],
   "source": [
    "#This will convert 200 minutes to hours by diving by 60\n",
    "200/60"
   ]
  },
  {
   "cell_type": "markdown",
   "id": "6e3f6bbf",
   "metadata": {},
   "source": [
    "## Author\n",
    "Mayank Deshmukh"
   ]
  },
  {
   "cell_type": "code",
   "execution_count": null,
   "id": "3d82b4ab",
   "metadata": {},
   "outputs": [],
   "source": []
  }
 ],
 "metadata": {
  "kernelspec": {
   "display_name": "Python 3 (ipykernel)",
   "language": "python",
   "name": "python3"
  },
  "language_info": {
   "codemirror_mode": {
    "name": "ipython",
    "version": 3
   },
   "file_extension": ".py",
   "mimetype": "text/x-python",
   "name": "python",
   "nbconvert_exporter": "python",
   "pygments_lexer": "ipython3",
   "version": "3.9.13"
  }
 },
 "nbformat": 4,
 "nbformat_minor": 5
}
